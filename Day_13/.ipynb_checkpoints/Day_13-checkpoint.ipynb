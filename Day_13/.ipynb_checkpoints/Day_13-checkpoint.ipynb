{
 "cells": [
  {
   "cell_type": "markdown",
   "id": "9e5374aa-e284-4c87-8e92-10f6cea50479",
   "metadata": {},
   "source": [
    "# Day 13\n",
    "## Part 1"
   ]
  },
  {
   "cell_type": "code",
   "execution_count": 78,
   "id": "d0f9b974-db90-49ab-adf5-6ad68c45e156",
   "metadata": {},
   "outputs": [],
   "source": [
    "with open(\"input.txt\") as f:\n",
    "    lines = f.read().splitlines()\n",
    "    points = []\n",
    "    folds = False\n",
    "    fold_lines = []\n",
    "    for line in lines:\n",
    "        if line == \"\":\n",
    "            folds = True\n",
    "            continue\n",
    "        if not folds:\n",
    "            xy = line.split(\",\")\n",
    "            points.append((int(xy[0]), int(xy[1])))\n",
    "        else:\n",
    "            fold_line = line.split(\" \")[-1].split(\"=\")\n",
    "            fold_line[1] = int(fold_line[1])\n",
    "            fold_lines.append(fold_line)\n",
    "\n",
    "# print(fold_lines)\n",
    "# print(points)"
   ]
  },
  {
   "cell_type": "code",
   "execution_count": 69,
   "id": "c370dc3d-16a5-48ea-bb83-5c43fb51f148",
   "metadata": {},
   "outputs": [],
   "source": [
    "from pprint import pprint"
   ]
  },
  {
   "cell_type": "code",
   "execution_count": 70,
   "id": "1e746876-8801-4426-bc39-851a239d92ba",
   "metadata": {},
   "outputs": [],
   "source": [
    "def display_grid(points):\n",
    "    x_max = 0\n",
    "    y_max = 0\n",
    "    for point in points:\n",
    "        if point[0] > x_max:\n",
    "            x_max = point[0]\n",
    "        if point[1] > y_max:\n",
    "            y_max = point[1]\n",
    "    # print(x_max, y_max)\n",
    "    grid = [[\".\" for x in range(x_max+1)] for y in range(y_max+1)]\n",
    "    # pprint(grid)\n",
    "    for point in points:\n",
    "        grid[point[1]][point[0]] = \"#\"\n",
    "    print(\"\\n\".join([\"\".join(row) for row in grid]))\n",
    "    return len(points)"
   ]
  },
  {
   "cell_type": "code",
   "execution_count": 71,
   "id": "3482c4b3-b65c-4eb6-bfdc-c766c4802925",
   "metadata": {},
   "outputs": [],
   "source": [
    "def reflect(line, points):\n",
    "    new_points = []\n",
    "    if line[0] == \"x\":\n",
    "        for point in points:\n",
    "            if point[0] < line[1]:\n",
    "                new_points.append(point)\n",
    "            else:\n",
    "                new_points.append((2*line[1]-point[0], point[1]))\n",
    "    else:\n",
    "        for point in points:\n",
    "            if point[1] < line[1]:\n",
    "                new_points.append(point)\n",
    "            else:\n",
    "                new_points.append((point[0], 2*line[1]-point[1]))\n",
    "    new_points = list(set(new_points))\n",
    "    print(\"Number of points: \", len(new_points))\n",
    "    return new_points"
   ]
  },
  {
   "cell_type": "code",
   "execution_count": 77,
   "id": "c65ef14e-6e43-4d6e-b5a9-24967c91f886",
   "metadata": {},
   "outputs": [
    {
     "name": "stdout",
     "output_type": "stream",
     "text": [
      "Number of points:  729\n",
      "729\n"
     ]
    }
   ],
   "source": [
    "print(len(reflect(fold_lines[0], points)))"
   ]
  },
  {
   "cell_type": "markdown",
   "id": "a11b14d8-d0b0-45f0-9d54-3c3f92214594",
   "metadata": {},
   "source": [
    "## Part 2"
   ]
  },
  {
   "cell_type": "code",
   "execution_count": 74,
   "id": "692e4d80-d648-410a-8867-2f3cee716275",
   "metadata": {},
   "outputs": [
    {
     "name": "stdout",
     "output_type": "stream",
     "text": [
      "Number of points:  729\n",
      "Number of points:  623\n",
      "Number of points:  528\n",
      "Number of points:  432\n",
      "Number of points:  360\n",
      "Number of points:  303\n",
      "Number of points:  255\n",
      "Number of points:  209\n",
      "Number of points:  176\n",
      "Number of points:  144\n",
      "Number of points:  121\n",
      "Number of points:  100\n",
      "###...##..####.#....###..#..#.####.###.\n",
      "#..#.#..#....#.#....#..#.#..#.#....#..#\n",
      "#..#.#......#..#....###..####.###..#..#\n",
      "###..#.##..#...#....#..#.#..#.#....###.\n",
      "#.#..#..#.#....#....#..#.#..#.#....#...\n",
      "#..#..###.####.####.###..#..#.#....#...\n"
     ]
    },
    {
     "data": {
      "text/plain": [
       "100"
      ]
     },
     "execution_count": 74,
     "metadata": {},
     "output_type": "execute_result"
    }
   ],
   "source": [
    "old_grid = points\n",
    "for fold_line in fold_lines:\n",
    "    new_grid = reflect(fold_line, old_grid)\n",
    "    old_grid = new_grid\n",
    "display_grid(new_grid)"
   ]
  }
 ],
 "metadata": {
  "kernelspec": {
   "display_name": "Python 3 (ipykernel)",
   "language": "python",
   "name": "python3"
  },
  "language_info": {
   "codemirror_mode": {
    "name": "ipython",
    "version": 3
   },
   "file_extension": ".py",
   "mimetype": "text/x-python",
   "name": "python",
   "nbconvert_exporter": "python",
   "pygments_lexer": "ipython3",
   "version": "3.10.0"
  }
 },
 "nbformat": 4,
 "nbformat_minor": 5
}
