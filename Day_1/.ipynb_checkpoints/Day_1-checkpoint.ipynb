{
 "cells": [
  {
   "cell_type": "markdown",
   "id": "8e98342d-918a-4d8b-ab99-2418f4e8b510",
   "metadata": {},
   "source": [
    "# Advent of code - Day 1\n",
    "## Task 1"
   ]
  },
  {
   "cell_type": "code",
   "execution_count": 7,
   "id": "189bdce6-d182-4ccf-b076-1f42dc25879b",
   "metadata": {},
   "outputs": [
    {
     "name": "stdout",
     "output_type": "stream",
     "text": [
      "1298\n"
     ]
    }
   ],
   "source": [
    "current_depth = None\n",
    "number_of_increases = 0\n",
    "with open(\"day_1_input.txt\") as f:\n",
    "    lines = f.readlines()\n",
    "    for row in lines:\n",
    "        try:\n",
    "            if int(row) > current_depth:\n",
    "                number_of_increases += 1\n",
    "        except TypeError:\n",
    "            pass\n",
    "        current_depth = int(row)\n",
    "print(number_of_increases)"
   ]
  },
  {
   "cell_type": "markdown",
   "id": "78e68ffe-6393-45a3-ad17-d29054781df9",
   "metadata": {},
   "source": [
    "## Task 2"
   ]
  },
  {
   "cell_type": "code",
   "execution_count": 10,
   "id": "e3447159-4e93-42a9-bf77-0f01fe1972e0",
   "metadata": {},
   "outputs": [
    {
     "name": "stdout",
     "output_type": "stream",
     "text": [
      "1248\n"
     ]
    }
   ],
   "source": [
    "curr_avg_depth = None\n",
    "prev_avg_depth = None\n",
    "line_minus_1 = None\n",
    "line_minus_2 = None\n",
    "no_of_inc = 0\n",
    "with open(\"day_1_input.txt\") as f:\n",
    "    lines = f.readlines()\n",
    "    for line in lines:\n",
    "        try:\n",
    "            curr_avg_depth = int(line) + line_minus_1 + line_minus_2\n",
    "            if curr_avg_depth > prev_avg_depth:\n",
    "                no_of_inc += 1\n",
    "        except:\n",
    "            pass\n",
    "        line_minus_2 = line_minus_1\n",
    "        line_minus_1 = int(line)\n",
    "        prev_avg_depth = curr_avg_depth\n",
    "print(no_of_inc)"
   ]
  }
 ],
 "metadata": {
  "kernelspec": {
   "display_name": "Python 3 (ipykernel)",
   "language": "python",
   "name": "python3"
  },
  "language_info": {
   "codemirror_mode": {
    "name": "ipython",
    "version": 3
   },
   "file_extension": ".py",
   "mimetype": "text/x-python",
   "name": "python",
   "nbconvert_exporter": "python",
   "pygments_lexer": "ipython3",
   "version": "3.10.0"
  }
 },
 "nbformat": 4,
 "nbformat_minor": 5
}
