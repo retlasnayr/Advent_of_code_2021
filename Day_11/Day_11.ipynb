{
 "cells": [
  {
   "cell_type": "markdown",
   "id": "a0d0bf8a-bdf9-4233-bd4c-38a3f04f4018",
   "metadata": {},
   "source": [
    "# Day 11\n",
    "## Part 1"
   ]
  },
  {
   "cell_type": "code",
   "execution_count": 112,
   "id": "40f49c8c-015f-4c9c-ba0a-988bdb7566de",
   "metadata": {},
   "outputs": [],
   "source": [
    "from pprint import pprint\n"
   ]
  },
  {
   "cell_type": "code",
   "execution_count": 15,
   "id": "6acbaeee-c0b6-4a33-ad33-b7e813f5aaf8",
   "metadata": {},
   "outputs": [],
   "source": [
    "def inc(grid):\n",
    "    return [[x+1 for x in row] for row in grid]"
   ]
  },
  {
   "cell_type": "code",
   "execution_count": 22,
   "id": "f69b28a0-489a-4cf2-89e9-fe2f0fdac241",
   "metadata": {},
   "outputs": [],
   "source": [
    "def flashes(grid, r, c):\n",
    "    neighbours = ((r-1, c-1), (r-1, c), (r-1, c+1), (r, c-1), (r, c+1), (r+1, c-1), (r+1, c), (r+1, c+1))\n",
    "    for neighbour in neighbours:\n",
    "        row, col = neighbour\n",
    "        if row<0 or row >= len(grid) or col<0 or col >= len(grid[0]):\n",
    "            continue\n",
    "        grid[row][col] += 1\n",
    "    return grid"
   ]
  },
  {
   "cell_type": "code",
   "execution_count": 105,
   "id": "bd3f21b8-84b9-4d4b-b23a-a438fcf770f0",
   "metadata": {},
   "outputs": [],
   "source": [
    "def step(grid):\n",
    "    flashed = []\n",
    "    for _ in range(len(grid)):\n",
    "        flashed.append([0,]*len(grid[0]))\n",
    "    \n",
    "    grid = inc(grid)\n",
    "    flash_happened = True\n",
    "    while flash_happened:\n",
    "        flash_happened = False\n",
    "        for row_num, row in enumerate(grid):\n",
    "            for col_num, octopus in enumerate(row):\n",
    "                if octopus > 9 and not flashed[row_num][col_num]:\n",
    "                    # Flashes\n",
    "                    # print(f\"{octopus} at row {row_num} and col {col_num} is about to flash\")\n",
    "                    flash_happened = True\n",
    "                    grid = flashes(grid, row_num, col_num)\n",
    "                    # pprint(flashed)\n",
    "                    # print(row_num, col_num)\n",
    "                    flashed[row_num][col_num] = 1\n",
    "                    # flashed[row_num].pop(col_num)\n",
    "                    # flashed[row_num].insert(col_num, 1)\n",
    "    # pprint(flashed)\n",
    "                    \n",
    "    for row in range(len(flashed)):\n",
    "        for col in range(len(flashed[0])):\n",
    "            if flashed[row][col]:\n",
    "                grid[row][col] = 0\n",
    "    return grid, flashed, sum([sum(x) for x in flashed])"
   ]
  },
  {
   "cell_type": "code",
   "execution_count": 111,
   "id": "b3de5fbb-a3de-483d-93df-15eb7ed5f37e",
   "metadata": {
    "tags": []
   },
   "outputs": [
    {
     "name": "stdout",
     "output_type": "stream",
     "text": [
      "total flashes = 1656\n"
     ]
    }
   ],
   "source": [
    "with open(\"tinput.txt\") as f:\n",
    "    lines = f.read().splitlines()\n",
    "    grid = []\n",
    "    for line in lines:\n",
    "        grid_line = []\n",
    "        for char in line:\n",
    "            grid_line.append(int(char))\n",
    "        grid.append(grid_line)\n",
    "    # pprint(grid)\n",
    "total_flashes = 0\n",
    "for _ in range(100):\n",
    "    # print(\"\\n\")\n",
    "    # pprint(grid)\n",
    "    # print(\"\\n\\n\")\n",
    "    data = step(grid)\n",
    "    grid = data[0]\n",
    "    # pprint(grid)\n",
    "    # pprint(data[1])\n",
    "    total_flashes += data[2]\n",
    "    # print(f\"flashed = {data[2]}\\n\")\n",
    "print(f\"total flashes = {total_flashes}\")"
   ]
  },
  {
   "cell_type": "markdown",
   "id": "68757809-4729-4645-95cf-21e08700942f",
   "metadata": {},
   "source": [
    "## Part 2"
   ]
  },
  {
   "cell_type": "code",
   "execution_count": 110,
   "id": "389b5867-c799-4a70-a4ac-fcb14cb51a55",
   "metadata": {},
   "outputs": [
    {
     "name": "stdout",
     "output_type": "stream",
     "text": [
      "All 100 flashed on step 210\n"
     ]
    }
   ],
   "source": [
    "with open(\"input.txt\") as f:\n",
    "    lines = f.read().splitlines()\n",
    "    grid = []\n",
    "    for line in lines:\n",
    "        grid_line = []\n",
    "        for char in line:\n",
    "            grid_line.append(int(char))\n",
    "        grid.append(grid_line)\n",
    "    # pprint(grid)\n",
    "for step_number in range(1000):\n",
    "    data = step(grid)\n",
    "    grid = data[0]\n",
    "    # print(f\"flashed = {data[2]}\")\n",
    "    if data[2] == 100:\n",
    "        print(f\"All 100 flashed on step {step_number+1}\")\n",
    "        break\n"
   ]
  }
 ],
 "metadata": {
  "kernelspec": {
   "display_name": "Python 3 (ipykernel)",
   "language": "python",
   "name": "python3"
  },
  "language_info": {
   "codemirror_mode": {
    "name": "ipython",
    "version": 3
   },
   "file_extension": ".py",
   "mimetype": "text/x-python",
   "name": "python",
   "nbconvert_exporter": "python",
   "pygments_lexer": "ipython3",
   "version": "3.10.0"
  }
 },
 "nbformat": 4,
 "nbformat_minor": 5
}
