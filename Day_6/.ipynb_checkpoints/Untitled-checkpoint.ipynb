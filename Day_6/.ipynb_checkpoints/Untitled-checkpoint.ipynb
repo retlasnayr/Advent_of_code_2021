{
 "cells": [
  {
   "cell_type": "markdown",
   "id": "09215877-0869-4422-bdf1-dc40f1e3d15b",
   "metadata": {},
   "source": [
    "## Part 1"
   ]
  },
  {
   "cell_type": "code",
   "execution_count": 107,
   "id": "f8cb2e9f-8a53-474a-9da3-ff71022f3665",
   "metadata": {},
   "outputs": [],
   "source": [
    "p1_test_fish = [1,2,3,3,4]\n",
    "test_fish = [0,1,1,2,1,0,0,0,0]"
   ]
  },
  {
   "cell_type": "code",
   "execution_count": 6,
   "id": "f01b031e-8ac6-4354-8121-7ab2d3eca497",
   "metadata": {},
   "outputs": [],
   "source": [
    "def increment_day(old_fish):\n",
    "    new_fish=[]\n",
    "    for fish in old_fish:\n",
    "        if fish == 0:\n",
    "            new_fish.append(6)\n",
    "            new_fish.append(8)\n",
    "        else:\n",
    "            new_fish.append(fish-1)\n",
    "    return new_fish"
   ]
  },
  {
   "cell_type": "code",
   "execution_count": 9,
   "id": "8774d489-d6b6-41dd-8c98-a85e55eb6983",
   "metadata": {},
   "outputs": [],
   "source": [
    "def simulate_lanternfish(start_fish, days):\n",
    "    old_fish=start_fish\n",
    "    for i in range(days):\n",
    "        new_fish = increment_day(old_fish)\n",
    "        old_fish = new_fish\n",
    "    return len(new_fish)"
   ]
  },
  {
   "cell_type": "code",
   "execution_count": 110,
   "id": "3f14c8de-a539-4637-a8af-c9a3cd28c774",
   "metadata": {},
   "outputs": [
    {
     "data": {
      "text/plain": [
       "5934"
      ]
     },
     "execution_count": 110,
     "metadata": {},
     "output_type": "execute_result"
    }
   ],
   "source": [
    "simulate_lanternfish(p1_test_fish,80)"
   ]
  },
  {
   "cell_type": "code",
   "execution_count": 18,
   "id": "a394cb89-4970-4f35-b694-10d94f12a228",
   "metadata": {},
   "outputs": [
    {
     "name": "stdout",
     "output_type": "stream",
     "text": [
      "386755\n"
     ]
    }
   ],
   "source": [
    "with open(\"input.txt\") as f:\n",
    "    line = f.read().splitlines()[0]\n",
    "    print(simulate_lanternfish([int(x) for x in line.split(\",\")],80))"
   ]
  },
  {
   "cell_type": "markdown",
   "id": "18a7abde-47fb-46ea-9441-eb0bb4844d73",
   "metadata": {},
   "source": [
    "## Part 2"
   ]
  },
  {
   "cell_type": "code",
   "execution_count": 82,
   "id": "8522ca06-9aaf-44a7-8f90-a9292a914179",
   "metadata": {},
   "outputs": [
    {
     "name": "stdout",
     "output_type": "stream",
     "text": [
      "[0, 198, 25, 20, 28, 29, 0, 0, 0]\n"
     ]
    }
   ],
   "source": [
    "with open(\"input.txt\") as f:\n",
    "    line = f.read().splitlines()[0]\n",
    "    cleaned_line = [int(x) for x in line.split(\",\")]\n",
    "    start_fish = [0,]*9\n",
    "    for x in cleaned_line:\n",
    "        start_fish[x] += 1\n",
    "print(start_fish)"
   ]
  },
  {
   "cell_type": "code",
   "execution_count": 77,
   "id": "f8357a5c-cc44-425d-8f80-314b6bd81c6a",
   "metadata": {},
   "outputs": [],
   "source": [
    "fish_count = [0,0,0,0,0,0,0,0,0]\n",
    "mappings = {0: (6, 8), 1: (0), 2: (1), 3: (2), 4: (3), 5: (4), 6: (5), 7: (6), 8: (7)}"
   ]
  },
  {
   "cell_type": "code",
   "execution_count": 97,
   "id": "b50844cb-3638-405b-a211-84b2f8ddf32e",
   "metadata": {},
   "outputs": [],
   "source": [
    "def new_day(old_fish):\n",
    "    new_fish = [0,]*9\n",
    "    new_fish[6] = old_fish[0]\n",
    "    new_fish[8] = old_fish[0]\n",
    "    for i in range(1,9):\n",
    "        new_fish[mappings[i]] += old_fish[i]\n",
    "    # print(new_fish)\n",
    "    return new_fish"
   ]
  },
  {
   "cell_type": "code",
   "execution_count": 103,
   "id": "94d68083-bb9a-41a2-9282-e0b8f06bb2a4",
   "metadata": {},
   "outputs": [
    {
     "name": "stdout",
     "output_type": "stream",
     "text": [
      "1732731810807\n"
     ]
    }
   ],
   "source": [
    "fish = start_fish\n",
    "for i in range(256):\n",
    "    fish = new_day(fish)\n",
    "print(sum(fish))"
   ]
  }
 ],
 "metadata": {
  "kernelspec": {
   "display_name": "Python 3 (ipykernel)",
   "language": "python",
   "name": "python3"
  },
  "language_info": {
   "codemirror_mode": {
    "name": "ipython",
    "version": 3
   },
   "file_extension": ".py",
   "mimetype": "text/x-python",
   "name": "python",
   "nbconvert_exporter": "python",
   "pygments_lexer": "ipython3",
   "version": "3.10.0"
  }
 },
 "nbformat": 4,
 "nbformat_minor": 5
}
