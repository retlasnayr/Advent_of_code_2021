{
 "cells": [
  {
   "cell_type": "markdown",
   "id": "c1c8706e-9b37-468d-b384-d8aca15d1572",
   "metadata": {},
   "source": [
    "# Advent of Code - Day 2\n",
    "## Task 1"
   ]
  },
  {
   "cell_type": "code",
   "execution_count": 2,
   "id": "ede86938-0d64-4c7d-9cf4-e3e564ce0da2",
   "metadata": {},
   "outputs": [
    {
     "name": "stdout",
     "output_type": "stream",
     "text": [
      "1690020\n"
     ]
    }
   ],
   "source": [
    "h_pos = 0\n",
    "v_pos = 0  # Depth\n",
    "with open(\"input.txt\") as f:\n",
    "    lines = f.readlines()\n",
    "    for line in lines:\n",
    "        parts = line.split(\" \")\n",
    "        match parts[0]:\n",
    "            case \"forward\":\n",
    "                h_pos += int(parts[1])\n",
    "            case \"up\":\n",
    "                v_pos -= int(parts[1])\n",
    "            case \"down\":\n",
    "                v_pos += int(parts[1])\n",
    "print(h_pos*v_pos)"
   ]
  },
  {
   "cell_type": "markdown",
   "id": "ba6a3975-e1b0-43e2-bb5a-2fd48e6e5824",
   "metadata": {},
   "source": [
    "# Task 2\n",
    "Reinterpret the commands"
   ]
  },
  {
   "cell_type": "code",
   "execution_count": 4,
   "id": "fe75f6e0-f3a9-4c4f-aca8-55f3c43f0195",
   "metadata": {},
   "outputs": [
    {
     "name": "stdout",
     "output_type": "stream",
     "text": [
      "1408487760\n"
     ]
    }
   ],
   "source": [
    "h_pos = 0\n",
    "v_pos = 0  # Depth\n",
    "aim = 0\n",
    "with open(\"input.txt\") as f:\n",
    "    lines = f.readlines()\n",
    "    for line in lines:\n",
    "        parts = line.split(\" \")\n",
    "        match parts[0]:\n",
    "            case \"forward\":\n",
    "                h_pos += int(parts[1])\n",
    "                v_pos += int(parts[1])*aim\n",
    "            case \"up\":\n",
    "                aim -= int(parts[1])\n",
    "            case \"down\":\n",
    "                aim += int(parts[1])\n",
    "print(h_pos*v_pos)"
   ]
  }
 ],
 "metadata": {
  "kernelspec": {
   "display_name": "Python 3 (ipykernel)",
   "language": "python",
   "name": "python3"
  },
  "language_info": {
   "codemirror_mode": {
    "name": "ipython",
    "version": 3
   },
   "file_extension": ".py",
   "mimetype": "text/x-python",
   "name": "python",
   "nbconvert_exporter": "python",
   "pygments_lexer": "ipython3",
   "version": "3.10.0"
  }
 },
 "nbformat": 4,
 "nbformat_minor": 5
}
