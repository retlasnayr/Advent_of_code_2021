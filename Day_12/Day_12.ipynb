{
 "cells": [
  {
   "cell_type": "markdown",
   "id": "cb7eb56f-f886-4802-940b-1d44bd91e30a",
   "metadata": {},
   "source": [
    "# Day 12\n",
    "## Part 1"
   ]
  },
  {
   "cell_type": "code",
   "execution_count": 1,
   "id": "c14d7627-a4ec-478a-9ed5-0dfd6ef3cb13",
   "metadata": {},
   "outputs": [
    {
     "name": "stdout",
     "output_type": "stream",
     "text": [
      "[('start', 'YY'), ('av', 'rz'), ('rz', 'VH'), ('fh', 'av'), ('end', 'fh'), ('sk', 'gp'), ('ae', 'av'), ('YY', 'gp'), ('end', 'VH'), ('CF', 'qz'), ('qz', 'end'), ('qz', 'VG'), ('start', 'gp'), ('VG', 'sk'), ('rz', 'YY'), ('VH', 'sk'), ('rz', 'gp'), ('VH', 'av'), ('VH', 'fh'), ('sk', 'rz'), ('YY', 'sk'), ('av', 'gp'), ('rz', 'qz'), ('VG', 'start'), ('sk', 'fh'), ('VG', 'av')]\n",
      "['start', 'YY', 'av', 'rz', 'VH', 'fh', 'end', 'sk', 'gp', 'ae', 'CF', 'qz', 'VG']\n"
     ]
    }
   ],
   "source": [
    "with open(\"input.txt\") as f:\n",
    "    lines = f.read().splitlines()\n",
    "    edges = []\n",
    "    nodes = []\n",
    "    for line in lines:\n",
    "        edges.append(tuple(line.split(\"-\")))\n",
    "    print(edges)\n",
    "    for edge in edges:\n",
    "        if edge[0] not in nodes:\n",
    "            nodes.append(edge[0])\n",
    "        if edge[1] not in nodes:\n",
    "            nodes.append(edge[1])\n",
    "    print(nodes)"
   ]
  },
  {
   "cell_type": "code",
   "execution_count": 2,
   "id": "70adb265-b523-41dd-a92e-d5296a4df802",
   "metadata": {},
   "outputs": [],
   "source": [
    "def find_path(current_cave, *caves_visited):\n",
    "    if current_cave == \"end\":\n",
    "        return [*caves_visited, current_cave]\n",
    "    paths = []\n",
    "    for dest in nodes:\n",
    "        if (current_cave, dest) in edges or (dest, current_cave) in edges:\n",
    "            if dest not in caves_visited or dest.upper() == dest:\n",
    "                paths.append(find_path(dest, *caves_visited, current_cave))\n",
    "    return paths\n",
    "\n",
    "def extract_lists(paths):\n",
    "    count = 0\n",
    "    for item in paths:\n",
    "        if isinstance(item, list):\n",
    "            if len(item) == 0:\n",
    "                pass\n",
    "            else:\n",
    "                # print(item)\n",
    "                count += extract_lists(item)\n",
    "        elif isinstance(item, str):\n",
    "            # print(item)\n",
    "            return count + 1\n",
    "    return count"
   ]
  },
  {
   "cell_type": "code",
   "execution_count": 3,
   "id": "883919f1-7e30-4e3d-b4ca-7830063c2a3c",
   "metadata": {},
   "outputs": [
    {
     "name": "stdout",
     "output_type": "stream",
     "text": [
      "4707\n"
     ]
    }
   ],
   "source": [
    "paths = find_path(\"start\")\n",
    "print(extract_lists(paths))"
   ]
  },
  {
   "cell_type": "markdown",
   "id": "98667032-9254-4852-8e82-5a7e6803b7b5",
   "metadata": {
    "tags": []
   },
   "source": [
    "## Part 2"
   ]
  },
  {
   "cell_type": "code",
   "execution_count": 5,
   "id": "739641da-1c03-4e6c-9511-5685632c561d",
   "metadata": {},
   "outputs": [
    {
     "name": "stdout",
     "output_type": "stream",
     "text": [
      "[('start', 'YY'), ('av', 'rz'), ('rz', 'VH'), ('fh', 'av'), ('end', 'fh'), ('sk', 'gp'), ('ae', 'av'), ('YY', 'gp'), ('end', 'VH'), ('CF', 'qz'), ('qz', 'end'), ('qz', 'VG'), ('start', 'gp'), ('VG', 'sk'), ('rz', 'YY'), ('VH', 'sk'), ('rz', 'gp'), ('VH', 'av'), ('VH', 'fh'), ('sk', 'rz'), ('YY', 'sk'), ('av', 'gp'), ('rz', 'qz'), ('VG', 'start'), ('sk', 'fh'), ('VG', 'av')]\n",
      "['start', 'YY', 'av', 'rz', 'VH', 'fh', 'end', 'sk', 'gp', 'ae', 'CF', 'qz', 'VG']\n"
     ]
    }
   ],
   "source": [
    "with open(\"input.txt\") as f:\n",
    "    lines = f.read().splitlines()\n",
    "    edges = []\n",
    "    nodes = []\n",
    "    for line in lines:\n",
    "        edges.append(tuple(line.split(\"-\")))\n",
    "    print(edges)\n",
    "    for edge in edges:\n",
    "        if edge[0] not in nodes:\n",
    "            nodes.append(edge[0])\n",
    "        if edge[1] not in nodes:\n",
    "            nodes.append(edge[1])\n",
    "    print(nodes)"
   ]
  },
  {
   "cell_type": "code",
   "execution_count": 6,
   "id": "29ab7d2c-2ade-491a-b477-606ea49a9bfe",
   "metadata": {},
   "outputs": [
    {
     "name": "stdout",
     "output_type": "stream",
     "text": [
      "130493\n"
     ]
    }
   ],
   "source": [
    "def find_path2(current_cave, revisited, *caves_visited):\n",
    "    if current_cave == \"end\":\n",
    "        return [*caves_visited, current_cave]\n",
    "    paths = []\n",
    "    for dest in nodes:\n",
    "        if (current_cave, dest) in edges or (dest, current_cave) in edges:\n",
    "            if revisited:\n",
    "                if dest not in caves_visited or dest.upper() == dest:\n",
    "                    paths.append(find_path2(dest, revisited, *caves_visited, current_cave))\n",
    "            else:\n",
    "                if dest not in caves_visited or dest.upper() == dest:\n",
    "                    paths.append(find_path2(dest, revisited, *caves_visited, current_cave))\n",
    "                if dest in caves_visited and dest.lower() == dest and dest != \"start\":\n",
    "                    # revisited = True\n",
    "                    paths.append(find_path2(dest, True, *caves_visited, current_cave))\n",
    "\n",
    "    return paths\n",
    "paths2 = find_path2(\"start\", False)\n",
    "print(extract_lists(paths2))"
   ]
  }
 ],
 "metadata": {
  "kernelspec": {
   "display_name": "Python 3 (ipykernel)",
   "language": "python",
   "name": "python3"
  },
  "language_info": {
   "codemirror_mode": {
    "name": "ipython",
    "version": 3
   },
   "file_extension": ".py",
   "mimetype": "text/x-python",
   "name": "python",
   "nbconvert_exporter": "python",
   "pygments_lexer": "ipython3",
   "version": "3.10.0"
  }
 },
 "nbformat": 4,
 "nbformat_minor": 5
}
