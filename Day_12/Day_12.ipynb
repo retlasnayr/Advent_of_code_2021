{
 "cells": [
  {
   "cell_type": "markdown",
   "id": "cb7eb56f-f886-4802-940b-1d44bd91e30a",
   "metadata": {},
   "source": [
    "# Day 12\n",
    "## Part 1"
   ]
  },
  {
   "cell_type": "code",
   "execution_count": 47,
   "id": "c14d7627-a4ec-478a-9ed5-0dfd6ef3cb13",
   "metadata": {},
   "outputs": [
    {
     "name": "stdout",
     "output_type": "stream",
     "text": [
      "[('dc', 'end'), ('HN', 'start'), ('start', 'kj'), ('dc', 'start'), ('dc', 'HN'), ('LN', 'dc'), ('HN', 'end'), ('kj', 'sa'), ('kj', 'HN'), ('kj', 'dc')]\n",
      "['dc', 'end', 'HN', 'start', 'kj', 'LN', 'sa']\n"
     ]
    }
   ],
   "source": [
    "with open(\"tinput2.txt\") as f:\n",
    "    lines = f.read().splitlines()\n",
    "    edges = []\n",
    "    nodes = []\n",
    "    for line in lines:\n",
    "        edges.append(tuple(line.split(\"-\")))\n",
    "    print(edges)\n",
    "    for edge in edges:\n",
    "        if edge[0] not in nodes:\n",
    "            nodes.append(edge[0])\n",
    "        if edge[1] not in nodes:\n",
    "            nodes.append(edge[1])\n",
    "    print(nodes)"
   ]
  },
  {
   "cell_type": "code",
   "execution_count": 49,
   "id": "70adb265-b523-41dd-a92e-d5296a4df802",
   "metadata": {},
   "outputs": [],
   "source": [
    "def find_path(current_cave, *caves_visited):\n",
    "    if current_cave == \"end\":\n",
    "        return [*caves_visited, current_cave]\n",
    "    paths = []\n",
    "    for dest in nodes:\n",
    "        if (current_cave, dest) in edges or (dest, current_cave) in edges:\n",
    "            if dest not in caves_visited or dest.upper() == dest:\n",
    "                paths.append(find_path(dest, *caves_visited, current_cave))\n",
    "    return paths\n",
    "\n",
    "def extract_lists(paths):\n",
    "    count = 0\n",
    "    for item in paths:\n",
    "        if isinstance(item, list):\n",
    "            if len(item) == 0:\n",
    "                pass\n",
    "            else:\n",
    "                # print(item)\n",
    "                count += extract_lists(item)\n",
    "        elif isinstance(item, str):\n",
    "            print(item)\n",
    "            return count + 1\n",
    "    return count"
   ]
  },
  {
   "cell_type": "code",
   "execution_count": 52,
   "id": "883919f1-7e30-4e3d-b4ca-7830063c2a3c",
   "metadata": {},
   "outputs": [
    {
     "name": "stdout",
     "output_type": "stream",
     "text": [
      "start\n",
      "start\n",
      "start\n",
      "start\n",
      "start\n",
      "start\n",
      "start\n",
      "start\n",
      "start\n",
      "start\n",
      "start\n",
      "start\n",
      "start\n",
      "start\n",
      "start\n",
      "start\n",
      "start\n",
      "start\n",
      "start\n",
      "19\n"
     ]
    }
   ],
   "source": [
    "paths = find_path(\"start\")\n",
    "print(extract_lists(paths))"
   ]
  },
  {
   "cell_type": "code",
   "execution_count": 38,
   "id": "f904349d-aa4b-4d0c-b37a-3d099df469d3",
   "metadata": {},
   "outputs": [
    {
     "name": "stdout",
     "output_type": "stream",
     "text": [
      "1\n",
      "[[['start', 'A', 'b', 'A', 'c', 'A', 'end']]]\n"
     ]
    }
   ],
   "source": [
    "it = paths[0][0][0][0]\n",
    "print(len(it))\n",
    "print(it)"
   ]
  }
 ],
 "metadata": {
  "kernelspec": {
   "display_name": "Python 3 (ipykernel)",
   "language": "python",
   "name": "python3"
  },
  "language_info": {
   "codemirror_mode": {
    "name": "ipython",
    "version": 3
   },
   "file_extension": ".py",
   "mimetype": "text/x-python",
   "name": "python",
   "nbconvert_exporter": "python",
   "pygments_lexer": "ipython3",
   "version": "3.10.0"
  }
 },
 "nbformat": 4,
 "nbformat_minor": 5
}
