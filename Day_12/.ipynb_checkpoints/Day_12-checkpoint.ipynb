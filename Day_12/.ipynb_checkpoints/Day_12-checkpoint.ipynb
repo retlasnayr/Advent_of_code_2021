{
 "cells": [
  {
   "cell_type": "markdown",
   "id": "cb7eb56f-f886-4802-940b-1d44bd91e30a",
   "metadata": {},
   "source": [
    "# Day 12\n",
    "## Part 1"
   ]
  },
  {
   "cell_type": "code",
   "execution_count": null,
   "id": "c14d7627-a4ec-478a-9ed5-0dfd6ef3cb13",
   "metadata": {},
   "outputs": [],
   "source": [
    "with open(\"tinput.txt\") as f:\n",
    "    lines = f.read().splitlines()"
   ]
  }
 ],
 "metadata": {
  "kernelspec": {
   "display_name": "Python 3 (ipykernel)",
   "language": "python",
   "name": "python3"
  },
  "language_info": {
   "codemirror_mode": {
    "name": "ipython",
    "version": 3
   },
   "file_extension": ".py",
   "mimetype": "text/x-python",
   "name": "python",
   "nbconvert_exporter": "python",
   "pygments_lexer": "ipython3",
   "version": "3.10.0"
  }
 },
 "nbformat": 4,
 "nbformat_minor": 5
}
