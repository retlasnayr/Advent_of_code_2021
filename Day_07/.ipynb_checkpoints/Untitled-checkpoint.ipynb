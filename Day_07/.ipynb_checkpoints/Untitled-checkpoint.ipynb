{
 "cells": [
  {
   "cell_type": "markdown",
   "id": "9a48cee1-15f7-49d8-9724-1dfb3bb850df",
   "metadata": {},
   "source": [
    "# Day 7\n",
    "## Part 1"
   ]
  },
  {
   "cell_type": "code",
   "execution_count": 1,
   "id": "95a7f02e-bd09-41a7-9314-4157f689ac07",
   "metadata": {},
   "outputs": [],
   "source": [
    "test_crabs = [16,1,2,0,4,2,7,1,2,14]"
   ]
  },
  {
   "cell_type": "code",
   "execution_count": 26,
   "id": "cd283e8e-b699-4eb3-9303-dc8aed7ec8a7",
   "metadata": {},
   "outputs": [],
   "source": [
    "def sim_crabs(crabs):\n",
    "    best_pos = None\n",
    "    max_crab = max(crabs)\n",
    "    num_crabs = len(crabs)\n",
    "    best_fuel = max_crab * num_crabs\n",
    "    for i in range(max_crab):\n",
    "        fuel_used = calc_distance(i, crabs)\n",
    "        if fuel_used < best_fuel:\n",
    "            best_fuel = fuel_used\n",
    "            best_pos = i\n",
    "    return best_pos, best_fuel"
   ]
  },
  {
   "cell_type": "code",
   "execution_count": 8,
   "id": "aea3e5a9-4e36-4447-aac6-d9d58ad83b62",
   "metadata": {},
   "outputs": [],
   "source": [
    "def calc_distance(pos, crabs):\n",
    "    dist = 0\n",
    "    for crab in crabs:\n",
    "        dist += abs(crab-pos)\n",
    "    return dist\n"
   ]
  },
  {
   "cell_type": "code",
   "execution_count": 27,
   "id": "1ef1fd6b-403d-438f-9348-60dfc7b199f3",
   "metadata": {},
   "outputs": [
    {
     "data": {
      "text/plain": [
       "(2, 37)"
      ]
     },
     "execution_count": 27,
     "metadata": {},
     "output_type": "execute_result"
    }
   ],
   "source": [
    "sim_crabs(test_crabs)"
   ]
  },
  {
   "cell_type": "code",
   "execution_count": 20,
   "id": "35a140ee-47d5-4a78-b247-756c393e7c94",
   "metadata": {},
   "outputs": [
    {
     "name": "stdout",
     "output_type": "stream",
     "text": [
      "(361, 354129)\n"
     ]
    }
   ],
   "source": [
    "with open(\"Day_7/input.txt\") as f:\n",
    "    line = f.read().splitlines()[0]\n",
    "    crabs = [int(x) for x in line.split(\",\")]\n",
    "    print(sim_crabs(crabs))"
   ]
  },
  {
   "cell_type": "markdown",
   "id": "e942c6ba-108f-4c99-aaf0-6d330cb310be",
   "metadata": {},
   "source": [
    "## Part 2"
   ]
  },
  {
   "cell_type": "code",
   "execution_count": 40,
   "id": "a140cbff-b8ce-42e4-a2c8-2558fb8b5b55",
   "metadata": {},
   "outputs": [],
   "source": [
    "import numpy as np"
   ]
  },
  {
   "cell_type": "code",
   "execution_count": 38,
   "id": "b5ecc395-8793-43e7-8fb3-2554ddd34f64",
   "metadata": {},
   "outputs": [],
   "source": [
    "def p2_sim_crabs(crabs):\n",
    "    best_pos = None\n",
    "    max_crab = max(crabs)\n",
    "    num_crabs = len(crabs)\n",
    "    best_fuel = np.inf\n",
    "    for i in range(max_crab):\n",
    "        fuel_used = p2_calc_distance(i, crabs)\n",
    "        if fuel_used < best_fuel:\n",
    "            best_fuel = fuel_used\n",
    "            best_pos = i\n",
    "    return best_pos, best_fuel"
   ]
  },
  {
   "cell_type": "code",
   "execution_count": 47,
   "id": "46d0e4de-1c4a-49dd-a673-3f60c6851607",
   "metadata": {},
   "outputs": [],
   "source": [
    "def p2_calc_distance(pos, crabs):\n",
    "    fuel = 0\n",
    "    for crab in crabs:\n",
    "        dist = abs(crab-pos)\n",
    "        fuel += dist*(dist+1)//2\n",
    "    return fuel"
   ]
  },
  {
   "cell_type": "code",
   "execution_count": 41,
   "id": "badfd931-d943-4fd8-9898-c14a340322ce",
   "metadata": {
    "tags": []
   },
   "outputs": [
    {
     "data": {
      "text/plain": [
       "(5, 168)"
      ]
     },
     "execution_count": 41,
     "metadata": {},
     "output_type": "execute_result"
    }
   ],
   "source": [
    "p2_sim_crabs(test_crabs)"
   ]
  },
  {
   "cell_type": "code",
   "execution_count": 48,
   "id": "2c6c3e4e-a8c4-4eb6-811f-f4bceb365667",
   "metadata": {},
   "outputs": [
    {
     "name": "stdout",
     "output_type": "stream",
     "text": [
      "(494, 98905973)\n"
     ]
    }
   ],
   "source": [
    "with open(\"Day_7/input.txt\") as f:\n",
    "    line = f.read().splitlines()[0]\n",
    "    crabs = [int(x) for x in line.split(\",\")]\n",
    "    print(p2_sim_crabs(crabs))"
   ]
  }
 ],
 "metadata": {
  "kernelspec": {
   "display_name": "Python 3 (ipykernel)",
   "language": "python",
   "name": "python3"
  },
  "language_info": {
   "codemirror_mode": {
    "name": "ipython",
    "version": 3
   },
   "file_extension": ".py",
   "mimetype": "text/x-python",
   "name": "python",
   "nbconvert_exporter": "python",
   "pygments_lexer": "ipython3",
   "version": "3.10.0"
  }
 },
 "nbformat": 4,
 "nbformat_minor": 5
}
