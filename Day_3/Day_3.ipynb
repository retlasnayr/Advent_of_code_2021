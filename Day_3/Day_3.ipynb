{
 "cells": [
  {
   "cell_type": "code",
   "execution_count": 10,
   "id": "cae31b3e-78e6-4de1-9995-20b6b2352de3",
   "metadata": {},
   "outputs": [
    {
     "name": "stdout",
     "output_type": "stream",
     "text": [
      "4174964\n"
     ]
    }
   ],
   "source": [
    "with open(\"input.txt\") as f:\n",
    "    lines = f.read().splitlines()\n",
    "    length = len(lines)\n",
    "    line_len = len(lines[0])\n",
    "    count_arr = [0,]*line_len\n",
    "    for line in lines:\n",
    "        for index, digit in enumerate(line):\n",
    "            count_arr[index] += int(digit)\n",
    "g_bin_result = \"\"\n",
    "e_bin_result = \"\"\n",
    "for index, digit in enumerate(count_arr):\n",
    "    if digit > length/2:\n",
    "        g_bin_result += \"1\"\n",
    "        e_bin_result += \"0\"\n",
    "    else:\n",
    "        g_bin_result += \"0\"\n",
    "        e_bin_result += \"1\"\n",
    "gamma = int(g_bin_result, 2)\n",
    "epsilon = int(e_bin_result, 2)\n",
    "print(gamma*epsilon)"
   ]
  },
  {
   "cell_type": "code",
   "execution_count": 39,
   "id": "d21e0cbe-7a1b-4849-afc7-a5f82dd1a67f",
   "metadata": {},
   "outputs": [],
   "source": [
    "def check_digit(lines, index):\n",
    "    # Split based on the given digit\n",
    "    if len(lines) <= 1:\n",
    "        return lines, lines\n",
    "    ones = []\n",
    "    zeros = []\n",
    "    for line in lines:\n",
    "        if line[index] == \"0\":\n",
    "            zeros.append(line)\n",
    "        else:\n",
    "            ones.append(line)\n",
    "            \n",
    "    if len(zeros) > len(ones):\n",
    "        return check_digit(zeros, index + 1)[0], check_digit(ones, index + 1)[1]\n",
    "    return check_digit(ones, index + 1)[0], check_digit(zeros, index + 1)[1]"
   ]
  },
  {
   "cell_type": "code",
   "execution_count": 40,
   "id": "12281193-a8f9-44f4-9480-89db155a9943",
   "metadata": {},
   "outputs": [
    {
     "name": "stdout",
     "output_type": "stream",
     "text": [
      "4474944\n"
     ]
    }
   ],
   "source": [
    "with open(\"input.txt\") as f:\n",
    "    lines = f.read().splitlines()\n",
    "    g, e = check_digit(lines, 0)\n",
    "    gamma = int(g[0], 2)\n",
    "    eps = int(e[0], 2)\n",
    "    print(gamma*eps)"
   ]
  },
  {
   "cell_type": "code",
   "execution_count": null,
   "id": "73867727-5677-4607-8854-5cd3b60b3c37",
   "metadata": {},
   "outputs": [],
   "source": []
  },
  {
   "cell_type": "code",
   "execution_count": null,
   "id": "31d53eef-c450-4efd-a9fd-be9555266621",
   "metadata": {},
   "outputs": [],
   "source": []
  },
  {
   "cell_type": "code",
   "execution_count": null,
   "id": "2f6720fa-0eb4-4831-ab67-7b436f8bf01a",
   "metadata": {},
   "outputs": [],
   "source": []
  }
 ],
 "metadata": {
  "kernelspec": {
   "display_name": "Python 3 (ipykernel)",
   "language": "python",
   "name": "python3"
  },
  "language_info": {
   "codemirror_mode": {
    "name": "ipython",
    "version": 3
   },
   "file_extension": ".py",
   "mimetype": "text/x-python",
   "name": "python",
   "nbconvert_exporter": "python",
   "pygments_lexer": "ipython3",
   "version": "3.10.0"
  }
 },
 "nbformat": 4,
 "nbformat_minor": 5
}
