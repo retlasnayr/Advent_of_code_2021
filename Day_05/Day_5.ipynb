{
 "cells": [
  {
   "cell_type": "code",
   "execution_count": 9,
   "id": "6e79840f-11d4-4b97-9a05-db834be93fce",
   "metadata": {},
   "outputs": [],
   "source": [
    "import numpy as np"
   ]
  },
  {
   "cell_type": "code",
   "execution_count": 68,
   "id": "fde2aead-aa86-4028-ae00-c1c03c6813e4",
   "metadata": {},
   "outputs": [],
   "source": [
    "def mark_line(matrix, coords):\n",
    "    (x1, y1, x2, y2) = coords\n",
    "    if x1 == x2:\n",
    "        for j in range(min(y1,y2),max(y1,y2)+1):\n",
    "            matrix[j,x1] += 1\n",
    "    elif y1 == y2:\n",
    "        for i in range(min(x1,x2),max(x1,x2)+1):\n",
    "            matrix[y1,i] += 1\n",
    "    else:\n",
    "        y_min = min(y1,y2)\n",
    "        # y_max = max(y1,y2)\n",
    "        x_min = min(x1,x2)\n",
    "        x_max = max(x1,x2)\n",
    "        # print(x_min, x_max, y_min)\n",
    "        if (x1-x2)*(y1-y2) > 0:\n",
    "            for i in range(x_max-x_min+1):\n",
    "                matrix[y_min+i, x_min+i] += 1\n",
    "        else:\n",
    "            # print(\"negative\")\n",
    "            for i in range(x_max-x_min+1):\n",
    "                matrix[y_min+i, x_max-i] += 1\n",
    "    # print(matrix)\n",
    "    return matrix"
   ]
  },
  {
   "cell_type": "code",
   "execution_count": 69,
   "id": "e89fccb2-b3a0-4c24-84ae-fca0bb0885dd",
   "metadata": {},
   "outputs": [
    {
     "name": "stdout",
     "output_type": "stream",
     "text": [
      "[[0. 0. 0. ... 0. 0. 0.]\n",
      " [0. 0. 0. ... 0. 0. 0.]\n",
      " [0. 0. 0. ... 0. 0. 0.]\n",
      " ...\n",
      " [0. 0. 0. ... 0. 0. 0.]\n",
      " [0. 0. 0. ... 0. 0. 0.]\n",
      " [0. 0. 0. ... 0. 0. 0.]]\n",
      "22083\n"
     ]
    }
   ],
   "source": [
    "with open(\"input.txt\") as f:\n",
    "    lines = f.read().splitlines()\n",
    "    x_max = 0\n",
    "    y_max = 0\n",
    "    neat_lines = []\n",
    "    for line in lines:\n",
    "        start, end = line.split(\"->\")\n",
    "        x1,y1 = start.strip().split(\",\")\n",
    "        x2,y2 = end.strip().split(\",\")\n",
    "        \n",
    "        x1,y1,x2,y2=int(x1),int(y1),int(x2),int(y2)\n",
    "        neat_lines.append([x1,y1,x2,y2])\n",
    "        x_max=max(x1,x2,x_max)\n",
    "        y_max=max(y1,y2,y_max)\n",
    "    grid = np.zeros((x_max+1,y_max+1))\n",
    "    for line in neat_lines:\n",
    "        # print(line)\n",
    "        grid = mark_line(grid, line)\n",
    "        # print(grid,\"\\n\")\n",
    "    print(grid)\n",
    "    count = 0\n",
    "    for row in grid:\n",
    "        for elem in row:\n",
    "            if elem >= 2:\n",
    "                count += 1\n",
    "    print(count)"
   ]
  },
  {
   "cell_type": "code",
   "execution_count": null,
   "id": "b706cb33-a3a0-4ad7-b23a-4db9c062e49d",
   "metadata": {},
   "outputs": [],
   "source": []
  }
 ],
 "metadata": {
  "kernelspec": {
   "display_name": "Python 3 (ipykernel)",
   "language": "python",
   "name": "python3"
  },
  "language_info": {
   "codemirror_mode": {
    "name": "ipython",
    "version": 3
   },
   "file_extension": ".py",
   "mimetype": "text/x-python",
   "name": "python",
   "nbconvert_exporter": "python",
   "pygments_lexer": "ipython3",
   "version": "3.10.0"
  }
 },
 "nbformat": 4,
 "nbformat_minor": 5
}
