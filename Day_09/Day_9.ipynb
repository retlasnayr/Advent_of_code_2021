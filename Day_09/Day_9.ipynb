{
 "cells": [
  {
   "cell_type": "markdown",
   "id": "ef0c56ab-e3ac-4836-a3c4-0253fb498826",
   "metadata": {},
   "source": [
    "# Day 9\n",
    "## Part 1"
   ]
  },
  {
   "cell_type": "code",
   "execution_count": 56,
   "id": "4e50075b-ee28-4785-9f84-394c8fdd3760",
   "metadata": {},
   "outputs": [],
   "source": [
    "import pprint"
   ]
  },
  {
   "cell_type": "code",
   "execution_count": 32,
   "id": "1ff8924d-4be6-44cf-bc8a-0ad356432af2",
   "metadata": {
    "tags": []
   },
   "outputs": [
    {
     "name": "stdout",
     "output_type": "stream",
     "text": [
      "562\n"
     ]
    }
   ],
   "source": [
    "with open(\"input.txt\") as f:\n",
    "    data = f.read().splitlines()\n",
    "    # print(data)\n",
    "    danger = 0\n",
    "    for row in range(len(data)):\n",
    "        for col in range(len(data[row])):\n",
    "            danger_point = check_if_low(row, col, data)\n",
    "            if danger_point:\n",
    "                # print(danger_point)\n",
    "                danger += danger_point[0]\n",
    "    print(danger)"
   ]
  },
  {
   "cell_type": "code",
   "execution_count": 31,
   "id": "5c3cdd11-e0c2-4885-8791-e7c637cfed6e",
   "metadata": {},
   "outputs": [],
   "source": [
    "def check_if_low(row, col, data):\n",
    "    try:\n",
    "        if int(data[row][col]) >= int(data[row-1][col]):\n",
    "            return False\n",
    "    except IndexError:\n",
    "        pass\n",
    "    try:\n",
    "        if int(data[row][col]) >= int(data[row][col-1]):\n",
    "            return False\n",
    "    except IndexError:\n",
    "        pass\n",
    "    try:\n",
    "        if int(data[row][col]) >= int(data[row+1][col]):\n",
    "            return False\n",
    "    except IndexError:\n",
    "        pass\n",
    "    try:\n",
    "        if int(data[row][col]) >= int(data[row][col+1]):\n",
    "            return False\n",
    "    except IndexError:\n",
    "        pass\n",
    "    return 1 + int(data[row][col]), (row, col)"
   ]
  },
  {
   "cell_type": "markdown",
   "id": "0555ae0a-11e6-47a4-8b17-dc073e3892e0",
   "metadata": {},
   "source": [
    "## Part 2"
   ]
  },
  {
   "cell_type": "code",
   "execution_count": 69,
   "id": "764f6c66-2b71-4977-891c-fc0be5e161a7",
   "metadata": {},
   "outputs": [
    {
     "name": "stdout",
     "output_type": "stream",
     "text": [
      "[(0, 20), (0, 28), (0, 75), (1, 1), (1, 40), (1, 51), (1, 60), (1, 95), (3, 14), (3, 46), (3, 84), (4, 5), (4, 60), (5, 33), (5, 53), (5, 78), (6, 1), (6, 26), (7, 64), (7, 71), (8, 36), (8, 46), (8, 89), (9, 15), (9, 30), (9, 58), (9, 86), (9, 97), (10, 6), (11, 22), (11, 42), (11, 51), (12, 0), (12, 80), (13, 46), (13, 59), (13, 71), (14, 16), (14, 37), (14, 88), (16, 9), (16, 98), (17, 41), (17, 53), (17, 59), (17, 65), (18, 3), (18, 31), (18, 76), (19, 58), (19, 94), (20, 21), (20, 38), (21, 15), (21, 47), (22, 89), (23, 35), (23, 67), (23, 82), (24, 29), (24, 78), (25, 1), (25, 23), (25, 59), (25, 94), (26, 9), (26, 43), (26, 49), (27, 53), (27, 71), (27, 89), (28, 17), (28, 36), (28, 83), (29, 29), (29, 77), (30, 0), (30, 48), (31, 13), (31, 36), (31, 42), (31, 63), (31, 82), (31, 95), (32, 70), (33, 5), (33, 74), (34, 16), (34, 23), (34, 36), (35, 32), (35, 56), (35, 88), (36, 99), (37, 47), (37, 80), (38, 32), (38, 52), (38, 63), (39, 9), (39, 71), (40, 93), (41, 57), (42, 1), (42, 26), (42, 42), (42, 51), (42, 67), (42, 77), (43, 19), (44, 82), (44, 97), (45, 2), (45, 12), (45, 91), (46, 71), (47, 30), (47, 58), (48, 54), (48, 66), (49, 17), (49, 36), (49, 79), (49, 96), (50, 26), (50, 59), (51, 7), (51, 22), (51, 47), (53, 55), (53, 86), (54, 17), (55, 5), (55, 26), (55, 41), (55, 69), (56, 0), (56, 13), (56, 60), (57, 75), (57, 97), (58, 18), (59, 3), (60, 23), (60, 33), (60, 40), (61, 10), (61, 52), (61, 81), (62, 90), (62, 97), (63, 0), (63, 65), (63, 72), (64, 44), (64, 78), (65, 24), (65, 38), (66, 80), (67, 19), (67, 30), (67, 59), (67, 83), (68, 12), (68, 50), (68, 68), (69, 4), (69, 96), (70, 74), (71, 18), (71, 88), (72, 13), (72, 31), (72, 58), (73, 0), (73, 36), (73, 43), (73, 49), (74, 27), (75, 32), (75, 82), (76, 48), (76, 99), (77, 5), (77, 73), (77, 92), (78, 16), (78, 54), (78, 63), (79, 28), (79, 36), (79, 40), (80, 78), (81, 0), (81, 12), (82, 20), (82, 58), (82, 67), (82, 86), (83, 49), (83, 96), (83, 99), (85, 36), (85, 63), (85, 75), (86, 5), (86, 17), (86, 78), (86, 99), (87, 93), (88, 51), (88, 70), (88, 89), (89, 26), (89, 43), (89, 73), (90, 11), (90, 62), (90, 83), (91, 35), (91, 57), (91, 80), (92, 21), (92, 96), (92, 99), (93, 6), (93, 70), (93, 78), (94, 2), (94, 29), (94, 63), (95, 44), (95, 81), (95, 90), (96, 52), (98, 17), (98, 34), (98, 98), (99, 2), (99, 7), (99, 24), (99, 58), (99, 66), (99, 75), (99, 83)]\n"
     ]
    }
   ],
   "source": [
    "with open(\"input.txt\") as f:\n",
    "    data = f.read().splitlines()\n",
    "    low_points = []\n",
    "    for row in range(len(data)):\n",
    "        for col in range(len(data[row])):\n",
    "            is_low = check_if_low(row, col, data)\n",
    "            if is_low:\n",
    "                low_points.append(is_low[1])\n",
    "    print(low_points)"
   ]
  },
  {
   "cell_type": "code",
   "execution_count": 60,
   "id": "eb463bb9-f621-46f8-ae56-8e77fc4062fb",
   "metadata": {},
   "outputs": [],
   "source": [
    "def find_basin(basin, data, point):\n",
    "    row = point[0]\n",
    "    col = point[1]\n",
    "\n",
    "    for (r, c) in ((row+1, col), (row-1,col), (row, col+1), (row, col-1)):\n",
    "        # print(\"current basin:  \",basin)\n",
    "        # print(\"checking point: \",(r,c))\n",
    "        if r<0 or r>=len(data) or c<0 or c>= len(data[0]):\n",
    "            # print(\"point outside of data\")\n",
    "            continue\n",
    "        if (r,c) in basin:\n",
    "            continue\n",
    "        if data[r][c] == \"9\":\n",
    "            # print(\"Was a 9\")\n",
    "            continue\n",
    "        \n",
    "        if int(data[row][col]) > int(data[r][c]):\n",
    "            continue\n",
    "        basin.append((r,c))\n",
    "        basin = find_basin(basin, data, (r, c))\n",
    "    return basin"
   ]
  },
  {
   "cell_type": "code",
   "execution_count": 52,
   "id": "42d805d0-096b-4384-9986-bc3061c2b48d",
   "metadata": {},
   "outputs": [
    {
     "data": {
      "text/plain": [
       "10"
      ]
     },
     "execution_count": 52,
     "metadata": {},
     "output_type": "execute_result"
    }
   ],
   "source": [
    "len(data[0])"
   ]
  },
  {
   "cell_type": "code",
   "execution_count": 70,
   "id": "730bea2a-ecdc-454e-82c7-6758e7d7038f",
   "metadata": {},
   "outputs": [
    {
     "name": "stdout",
     "output_type": "stream",
     "text": [
      "1076922\n"
     ]
    }
   ],
   "source": [
    "basins = {}\n",
    "for point in low_points:\n",
    "    basin = find_basin([point], data, point)\n",
    "    basins[point] = {\"size\": len(set(basin)), \"basin\": basin}\n",
    "# pprint.pprint(basins)\n",
    "biggest = [0,0,0]\n",
    "for k,v in basins.items():\n",
    "    if v[\"size\"] > min(biggest):\n",
    "        biggest.remove(min(biggest))\n",
    "        biggest.append(v[\"size\"])\n",
    "ans = 1\n",
    "for size in biggest:\n",
    "    ans *= size\n",
    "print(ans)"
   ]
  },
  {
   "cell_type": "code",
   "execution_count": 49,
   "id": "e14bd223-d778-4544-bebe-39a4cc6d3906",
   "metadata": {},
   "outputs": [
    {
     "name": "stdout",
     "output_type": "stream",
     "text": [
      "current basin:   [(0, 1)]\n",
      "checking point:  (1, 1)\n",
      "Was a 9\n",
      "current basin:   [(0, 1)]\n",
      "checking point:  (-1, 1)\n",
      "point outside of data\n",
      "current basin:   [(0, 1)]\n",
      "checking point:  (0, 2)\n",
      "Was a 9\n",
      "current basin:   [(0, 1)]\n",
      "checking point:  (0, 0)\n",
      "current basin:   [(0, 1), (0, 0)]\n",
      "checking point:  (1, 0)\n",
      "current basin:   [(0, 1), (0, 0), (1, 0)]\n",
      "checking point:  (2, 0)\n",
      "Was a 9\n",
      "current basin:   [(0, 1), (0, 0), (1, 0)]\n",
      "checking point:  (0, 0)\n",
      "current basin:   [(0, 1), (0, 0), (1, 0)]\n",
      "checking point:  (1, 1)\n",
      "Was a 9\n",
      "current basin:   [(0, 1), (0, 0), (1, 0)]\n",
      "checking point:  (1, -1)\n",
      "point outside of data\n",
      "current basin:   [(0, 1), (0, 0), (1, 0)]\n",
      "checking point:  (-1, 0)\n",
      "point outside of data\n",
      "current basin:   [(0, 1), (0, 0), (1, 0)]\n",
      "checking point:  (0, 1)\n",
      "current basin:   [(0, 1), (0, 0), (1, 0)]\n",
      "checking point:  (0, -1)\n",
      "point outside of data\n",
      "[(0, 1), (0, 0), (1, 0)]\n"
     ]
    }
   ],
   "source": [
    "print(find_basin([(0,1)],data,(0,1))) "
   ]
  }
 ],
 "metadata": {
  "kernelspec": {
   "display_name": "Python 3 (ipykernel)",
   "language": "python",
   "name": "python3"
  },
  "language_info": {
   "codemirror_mode": {
    "name": "ipython",
    "version": 3
   },
   "file_extension": ".py",
   "mimetype": "text/x-python",
   "name": "python",
   "nbconvert_exporter": "python",
   "pygments_lexer": "ipython3",
   "version": "3.10.0"
  }
 },
 "nbformat": 4,
 "nbformat_minor": 5
}
