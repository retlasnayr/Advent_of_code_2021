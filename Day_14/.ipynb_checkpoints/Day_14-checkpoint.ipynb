{
 "cells": [
  {
   "cell_type": "markdown",
   "id": "1719449f-3fa7-4e74-a81f-a2e84713a0cf",
   "metadata": {},
   "source": [
    "# Day 14\n",
    "## Part 1"
   ]
  },
  {
   "cell_type": "code",
   "execution_count": 43,
   "id": "37eb3a9b-8ecd-490f-93be-19a1d1f1ba92",
   "metadata": {},
   "outputs": [],
   "source": [
    "from pprint import pprint"
   ]
  },
  {
   "cell_type": "code",
   "execution_count": 34,
   "id": "2f474994-58d3-4f82-9547-be7b399278f2",
   "metadata": {},
   "outputs": [
    {
     "name": "stdout",
     "output_type": "stream",
     "text": [
      "CPSSSFCFOFVFNVPKBFVN\n",
      "{'NV': 'V', 'CF': 'O', 'BB': 'F', 'SB': 'H', 'KF': 'O', 'SP': 'H', 'CS': 'V', 'VF': 'F', 'PC': 'H', 'PH': 'H', 'SF': 'F', 'CP': 'B', 'BC': 'H', 'PB': 'V', 'KO': 'B', 'CV': 'S', 'ON': 'B', 'PV': 'F', 'OO': 'B', 'VV': 'B', 'NO': 'B', 'SH': 'N', 'FC': 'C', 'VO': 'B', 'NN': 'C', 'HH': 'S', 'CK': 'C', 'PF': 'N', 'SN': 'K', 'OK': 'F', 'FH': 'S', 'BP': 'K', 'HO': 'K', 'FB': 'P', 'HC': 'N', 'FP': 'P', 'NC': 'H', 'PK': 'O', 'BV': 'P', 'HK': 'S', 'PP': 'N', 'VC': 'K', 'CH': 'C', 'KS': 'V', 'KB': 'V', 'FN': 'P', 'BS': 'O', 'PS': 'N', 'NS': 'B', 'PN': 'N', 'NP': 'H', 'CB': 'S', 'SV': 'O', 'OC': 'H', 'BO': 'C', 'HN': 'N', 'HP': 'N', 'OF': 'H', 'FS': 'S', 'KV': 'P', 'HV': 'S', 'VS': 'P', 'BH': 'N', 'CC': 'V', 'VN': 'H', 'NF': 'B', 'NK': 'N', 'CN': 'F', 'FV': 'P', 'NH': 'S', 'OV': 'H', 'KN': 'F', 'SO': 'H', 'OP': 'N', 'KC': 'P', 'HB': 'B', 'BN': 'V', 'VP': 'N', 'HS': 'S', 'VK': 'C', 'VH': 'H', 'OS': 'C', 'FO': 'B', 'NB': 'P', 'KP': 'V', 'SS': 'O', 'BK': 'F', 'SK': 'N', 'HF': 'O', 'PO': 'F', 'OH': 'B', 'KK': 'O', 'FK': 'S', 'VB': 'V', 'OB': 'C', 'KH': 'H', 'SC': 'F', 'FF': 'H', 'CO': 'V', 'BF': 'H'}\n"
     ]
    }
   ],
   "source": [
    "with open(\"input.txt\") as f:\n",
    "    lines = f.read().splitlines()\n",
    "    template = lines.pop(0)\n",
    "    print(template)\n",
    "    mapping = {}\n",
    "    # print(lines)\n",
    "    for line in lines:\n",
    "        if line:\n",
    "            mapping.update([line.split(\" -> \")])\n",
    "            \n",
    "    print(mapping)"
   ]
  },
  {
   "cell_type": "code",
   "execution_count": 20,
   "id": "c502fba6-c580-4a81-89d2-3cabc3becc85",
   "metadata": {},
   "outputs": [],
   "source": [
    "def update_polymer(poly, poly_mapping):\n",
    "    new_poly = poly[0]\n",
    "    for index, char in enumerate(poly):\n",
    "        try:\n",
    "            pair = str(char + poly[index+1])\n",
    "        except IndexError:\n",
    "            break\n",
    "        if pair in poly_mapping:\n",
    "            new_poly += str(poly_mapping[pair] + poly[index+1])\n",
    "        else:\n",
    "            new_poly += poly[index+1]\n",
    "    return new_poly"
   ]
  },
  {
   "cell_type": "code",
   "execution_count": 79,
   "id": "f4f65065-69ba-4e39-aa7d-a329ebf91752",
   "metadata": {},
   "outputs": [
    {
     "name": "stdout",
     "output_type": "stream",
     "text": [
      "Template:     CPSSSFCFOFVFNVPKBFVN\n",
      "After step 1: 39\n",
      "After step 2: 77\n",
      "After step 3: 153\n",
      "After step 4: 305\n",
      "After step 5: 609\n",
      "After step 6: 1217\n",
      "After step 7: 2433\n",
      "After step 8: 4865\n",
      "After step 9: 9729\n",
      "After step 10: 19457\n",
      "Max is N with 4605 occurences\n",
      "Min is K with 908 occurences\n",
      "So difference is 3697\n"
     ]
    }
   ],
   "source": [
    "print(\"Template:    \", template)\n",
    "new_polymer = template\n",
    "for i in range(10):\n",
    "    new_polymer = update_polymer(new_polymer, mapping)\n",
    "    print(f\"After step {str(i+1)}: {len(new_polymer)}\")\n",
    "order, cd = count_elements(new_polymer)\n",
    "print(f\"Max is {order[-1]} with {cd[order[-1]]} occurences\")\n",
    "print(f\"Min is {order[0]} with {cd[order[0]]} occurences\")\n",
    "print(f\"So difference is {cd[order[-1]]-cd[order[0]]}\")"
   ]
  },
  {
   "cell_type": "code",
   "execution_count": 31,
   "id": "2cacd3e3-c6c7-4292-a3c2-c14fe2139b82",
   "metadata": {},
   "outputs": [],
   "source": [
    "def count_elements(polymer):\n",
    "    counts_dict = {}\n",
    "    for char in polymer:\n",
    "        if char in counts_dict:\n",
    "            counts_dict[char] += 1\n",
    "        else:\n",
    "            counts_dict[char] = 1\n",
    "    return sorted(counts_dict, key=lambda x: counts_dict[x]), counts_dict"
   ]
  },
  {
   "cell_type": "markdown",
   "id": "92560c78-117f-41d0-8979-c60ac0df2755",
   "metadata": {},
   "source": [
    "## Part 2"
   ]
  },
  {
   "cell_type": "code",
   "execution_count": 78,
   "id": "d58b79ac-55b9-4176-9d9e-135340a4799f",
   "metadata": {},
   "outputs": [
    {
     "name": "stdout",
     "output_type": "stream",
     "text": [
      "Template:            CPSSSFCFOFVFNVPKBFVN\n",
      "Length after step 1: 39\n",
      "Length after step 2: 77\n",
      "Length after step 3: 153\n",
      "Length after step 4: 305\n",
      "Length after step 5: 609\n",
      "Length after step 6: 1217\n",
      "Length after step 7: 2433\n",
      "Length after step 8: 4865\n",
      "Length after step 9: 9729\n",
      "Length after step 10: 19457\n",
      "Length after step 11: 38913\n",
      "Length after step 12: 77825\n",
      "Length after step 13: 155649\n",
      "Length after step 14: 311297\n",
      "Length after step 15: 622593\n",
      "Length after step 16: 1245185\n",
      "Length after step 17: 2490369\n",
      "Length after step 18: 4980737\n",
      "Length after step 19: 9961473\n",
      "Length after step 20: 19922945\n",
      "Length after step 21: 39845889\n",
      "Length after step 22: 79691777\n",
      "Length after step 23: 159383553\n",
      "Length after step 24: 318767105\n",
      "Length after step 25: 637534209\n",
      "Length after step 26: 1275068417\n",
      "Length after step 27: 2550136833\n",
      "Length after step 28: 5100273665\n",
      "Length after step 29: 10200547329\n",
      "Length after step 30: 20401094657\n",
      "Length after step 31: 40802189313\n",
      "Length after step 32: 81604378625\n",
      "Length after step 33: 163208757249\n",
      "Length after step 34: 326417514497\n",
      "Length after step 35: 652835028993\n",
      "Length after step 36: 1305670057985\n",
      "Length after step 37: 2611340115969\n",
      "Length after step 38: 5222680231937\n",
      "Length after step 39: 10445360463873\n",
      "Length after step 40: 20890720927745\n",
      "Max is N with 5200758808457 occurences\n",
      "Min is K with 829450972300 occurences\n",
      "So difference is 4371307836157\n"
     ]
    }
   ],
   "source": [
    "\n",
    "with open(\"input.txt\") as f:\n",
    "    lines = f.read().splitlines()\n",
    "    template = lines.pop(0)\n",
    "    # print(template)\n",
    "    mapping = {}\n",
    "    all_elements = set()\n",
    "    # print(lines)\n",
    "    for line in lines:\n",
    "        if line:\n",
    "            for char in line:\n",
    "                if char not in (\">\", \"-\", \" \"):\n",
    "                    all_elements.add(char)\n",
    "            mapping.update([line.split(\" -> \")])\n",
    "    # print(mapping)\n",
    "    all_elements = dict(zip(all_elements, [0,]*len(all_elements)))\n",
    "    all_pairs = {}\n",
    "    for elem in all_elements:\n",
    "        for elem2 in all_elements:\n",
    "            all_pairs[str(elem + elem2)] = 0\n",
    "    for index, char in enumerate(template):\n",
    "        all_elements[char] += 1\n",
    "        try:\n",
    "            all_pairs[str(char + template[index+1])] += 1\n",
    "        except IndexError:\n",
    "            pass\n",
    "    # pprint(all_elements)\n",
    "    # pprint(all_pairs)\n",
    "\n",
    "def update_poly(pair_mapping, all_elem, all_pairs):\n",
    "    new_pairs = dict(zip(all_pairs.keys(), [0,]*len(all_pairs)))\n",
    "    # print(new_pairs)\n",
    "    for k, v in pair_mapping.items():\n",
    "        if all_pairs[k]:\n",
    "            new_pairs[str(k[0] + v)] += all_pairs[k]\n",
    "            new_pairs[str(v + k[1])] += all_pairs[k]\n",
    "            all_elem[v] += all_pairs[k]\n",
    "    # print(all_elem)\n",
    "    # print(new_pairs)\n",
    "    return all_elem, new_pairs\n",
    "\n",
    "print(\"Template:           \", template)\n",
    "new_polymer = template\n",
    "for i in range(40):\n",
    "    all_elements, all_pairs = update_poly(mapping, all_elements, all_pairs)\n",
    "    print(f\"Length after step {str(i+1)}: {sum(all_elements.values())}\")\n",
    "order = sorted(all_elements, key=lambda x: all_elements[x])\n",
    "print(f\"Max is {order[-1]} with {all_elements[order[-1]]} occurences\")\n",
    "print(f\"Min is {order[0]} with {all_elements[order[0]]} occurences\")\n",
    "print(f\"So difference is {all_elements[order[-1]]-all_elements[order[0]]}\")"
   ]
  }
 ],
 "metadata": {
  "kernelspec": {
   "display_name": "Python 3 (ipykernel)",
   "language": "python",
   "name": "python3"
  },
  "language_info": {
   "codemirror_mode": {
    "name": "ipython",
    "version": 3
   },
   "file_extension": ".py",
   "mimetype": "text/x-python",
   "name": "python",
   "nbconvert_exporter": "python",
   "pygments_lexer": "ipython3",
   "version": "3.10.0"
  }
 },
 "nbformat": 4,
 "nbformat_minor": 5
}
