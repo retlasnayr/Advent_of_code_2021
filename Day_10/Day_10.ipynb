{
 "cells": [
  {
   "cell_type": "markdown",
   "id": "a7bb2291-557e-4b1e-a19e-647d64270372",
   "metadata": {},
   "source": [
    "# Day 10\n",
    "## Part 1"
   ]
  },
  {
   "cell_type": "code",
   "execution_count": 6,
   "id": "0ad91043-e742-47ca-9c93-9ff9084befda",
   "metadata": {},
   "outputs": [],
   "source": [
    "def check_line_corrupted(line):\n",
    "    opened=[]\n",
    "    for char in line:\n",
    "        if char in (\"[\", \"(\", \"{\", \"<\"):\n",
    "            opened.append(char)\n",
    "        else:\n",
    "            last = opened.pop(-1)\n",
    "            if char != pairs[last]:\n",
    "                return True, pairs[last], char\n",
    "    return False, \"\", \"\""
   ]
  },
  {
   "cell_type": "code",
   "execution_count": 6,
   "id": "4a203086-8913-49ea-af3d-9871b06a56fa",
   "metadata": {},
   "outputs": [],
   "source": [
    "pairs = {\"[\":\"]\", \"(\":\")\", \"{\":\"}\", \"<\":\">\"}\n",
    "points = {\")\":3, \"]\":57, \"}\": 1197, \">\":25137}"
   ]
  },
  {
   "cell_type": "code",
   "execution_count": 8,
   "id": "820a9501-1dd9-424a-a34e-31bd9b3d0998",
   "metadata": {},
   "outputs": [
    {
     "name": "stdout",
     "output_type": "stream",
     "text": [
      "345441\n"
     ]
    }
   ],
   "source": [
    "with open(\"input.txt\") as f:\n",
    "    lines = f.read().splitlines()\n",
    "    good_lines = []\n",
    "    score = 0\n",
    "    for line in lines:\n",
    "        corrupted, expected, got = check_line_corrupted(line)\n",
    "        if corrupted:\n",
    "            # print(f\"expected {expected} but got {got}\")\n",
    "            score += points[got]\n",
    "        else:\n",
    "            good_lines.append(line)\n",
    "print(score)"
   ]
  },
  {
   "cell_type": "markdown",
   "id": "f0320b6b-4bd4-4997-b2b5-9c181b2d512d",
   "metadata": {},
   "source": [
    "## Part 2"
   ]
  },
  {
   "cell_type": "code",
   "execution_count": 9,
   "id": "be4e9be6-90aa-4d8f-b107-45693b7e9cc0",
   "metadata": {},
   "outputs": [],
   "source": [
    "def check_line(line):\n",
    "    opened = []\n",
    "    for char in line:\n",
    "        if char in (\"[\", \"(\", \"{\", \"<\"):\n",
    "            opened.append(char)\n",
    "        else:\n",
    "            last = opened.pop(-1)\n",
    "            if char != pairs[last]:\n",
    "                return True, pairs[last], char\n",
    "    return False, opened, \"\""
   ]
  },
  {
   "cell_type": "code",
   "execution_count": 10,
   "id": "4d8c8e52-7d1d-4886-83e2-6f2bfda171c4",
   "metadata": {},
   "outputs": [],
   "source": [
    "auto_comp_points = {\")\":1, \"]\":2, \"}\":3, \">\":4}"
   ]
  },
  {
   "cell_type": "code",
   "execution_count": 23,
   "id": "6374b462-ce49-4154-a8fa-451a272cad0f",
   "metadata": {},
   "outputs": [
    {
     "name": "stdout",
     "output_type": "stream",
     "text": [
      "Middle score is 3235371166\n"
     ]
    }
   ],
   "source": [
    "with open(\"input.txt\") as f:\n",
    "    lines = f.read().splitlines()\n",
    "    scores = []\n",
    "    for line in lines:\n",
    "        answer = \"\"\n",
    "        score = 0\n",
    "        result = check_line(line)\n",
    "        if not result[0]:\n",
    "            for opener in result[1][::-1]:\n",
    "                answer += pairs[opener]\n",
    "                score *= 5\n",
    "                score += auto_comp_points[pairs[opener]]\n",
    "            # print(score)\n",
    "            scores.append(score)\n",
    "print(\"Middle score is\", sorted(scores)[len(scores)//2])"
   ]
  }
 ],
 "metadata": {
  "kernelspec": {
   "display_name": "Python 3 (ipykernel)",
   "language": "python",
   "name": "python3"
  },
  "language_info": {
   "codemirror_mode": {
    "name": "ipython",
    "version": 3
   },
   "file_extension": ".py",
   "mimetype": "text/x-python",
   "name": "python",
   "nbconvert_exporter": "python",
   "pygments_lexer": "ipython3",
   "version": "3.10.0"
  }
 },
 "nbformat": 4,
 "nbformat_minor": 5
}
