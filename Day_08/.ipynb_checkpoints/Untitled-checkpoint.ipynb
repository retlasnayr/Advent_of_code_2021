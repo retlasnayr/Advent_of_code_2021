{
 "cells": [
  {
   "cell_type": "markdown",
   "id": "a3a65676-055e-4ce6-8f05-82a8e64f3ca8",
   "metadata": {},
   "source": [
    "# Day 8\n",
    "## Part 1"
   ]
  },
  {
   "cell_type": "code",
   "execution_count": 3,
   "id": "386af1c1-030f-4c6a-b279-f6ad2cb04b1e",
   "metadata": {},
   "outputs": [
    {
     "name": "stdout",
     "output_type": "stream",
     "text": [
      "421\n"
     ]
    }
   ],
   "source": [
    "with open(\"input.txt\") as f:\n",
    "    lines = f.read().splitlines()\n",
    "    counter = 0\n",
    "    for line in lines:\n",
    "        output = line.split(\"|\")[1].split()\n",
    "        for item in output:\n",
    "            if len(item) in (2,3,4,7):\n",
    "                counter += 1\n",
    "    print(counter)"
   ]
  },
  {
   "cell_type": "markdown",
   "id": "41f6e974-103d-4813-bfde-2ecbaea70b8b",
   "metadata": {},
   "source": [
    "## Part 2"
   ]
  },
  {
   "cell_type": "code",
   "execution_count": 134,
   "id": "51aea288-abbd-4ed3-854d-0ef901d77992",
   "metadata": {},
   "outputs": [],
   "source": [
    "def deduce_solution(line):\n",
    "    final_maps = {}\n",
    "    letter_maps = {}\n",
    "    parts = line.split(\"|\")\n",
    "    data = parts[0].split()\n",
    "    data += parts[1].split()\n",
    "    fives = []\n",
    "    sixes = []\n",
    "    for item in data:\n",
    "        item = \"\".join(sorted(item))\n",
    "        if len(item) == 2:\n",
    "            final_maps[1] = item\n",
    "        if len(item) == 3:\n",
    "            final_maps[7] = item\n",
    "        if len(item) == 4:\n",
    "            final_maps[4] = item\n",
    "        if len(item) == 7:\n",
    "            final_maps[8] = item\n",
    "        if len(item) == 5:\n",
    "            # print(item)\n",
    "            fives.append(item)\n",
    "        if len(item) == 6:\n",
    "            sixes.append(item)\n",
    "    fives = list(set(fives))\n",
    "    sixes = list(set(sixes))\n",
    "\n",
    "    # print(fives)\n",
    "    for item in fives:\n",
    "        if is_substring(final_maps[1], item):\n",
    "            final_maps[3] = item\n",
    "        elif is_substring(diff(final_maps[4], final_maps[7]), item):\n",
    "            final_maps[5] = item\n",
    "        else:\n",
    "            final_maps[2] = item\n",
    "    for item in sixes:\n",
    "        if is_substring(final_maps[4], item):\n",
    "            final_maps[9] = item\n",
    "        elif is_substring(final_maps[7], item):\n",
    "            final_maps[0] = item\n",
    "        else:\n",
    "            final_maps[6] = item\n",
    "\n",
    "    # for k, v in possible_mappings.items():\n",
    "    #     if not v:\n",
    "    #         possible_mappings[k] = {\"e\", \"g\"}\n",
    "    # print(final_maps)\n",
    "    reverse_map = {v:k for k,v in final_maps.items()}\n",
    "    running_tot = 0\n",
    "    number = []\n",
    "    for item in parts[1].split():\n",
    "        number.append(reverse_map[\"\".join(sorted(item))])\n",
    "    return int(\"\".join([str(x) for x in number]))\n",
    "        \n"
   ]
  },
  {
   "cell_type": "code",
   "execution_count": 85,
   "id": "ca1ba5e1-41d5-4fc4-a73c-e5644b891d54",
   "metadata": {},
   "outputs": [],
   "source": [
    "def merge_strings(s1, s2):\n",
    "    result = set()\n",
    "    for c in s1:\n",
    "        result.update(c)\n",
    "    for c in s2:\n",
    "        result.update(c)\n",
    "    print(result)\n",
    "    result = list(result)\n",
    "    result = \"\".join(sorted(result))\n",
    "    return result"
   ]
  },
  {
   "cell_type": "code",
   "execution_count": 22,
   "id": "0d98d524-7f5d-4326-9d85-cd279baf996c",
   "metadata": {},
   "outputs": [],
   "source": [
    "def update_mappings(item, possible_mappings, n):\n",
    "    for character in item:\n",
    "        try:\n",
    "            possible_mappings[character].update(correct_segments[n])\n",
    "        except KeyError:\n",
    "            pass\n",
    "    return possible_mappings"
   ]
  },
  {
   "cell_type": "code",
   "execution_count": 120,
   "id": "c930500a-b1f9-4d5f-bf71-6b9a0a080ed9",
   "metadata": {},
   "outputs": [],
   "source": [
    "def is_substring(sub, string):\n",
    "    for char in sub:\n",
    "        if char not in string:\n",
    "            return False\n",
    "    return True"
   ]
  },
  {
   "cell_type": "code",
   "execution_count": 72,
   "id": "0b6adb02-fb10-4e96-93ce-52252573dd8b",
   "metadata": {},
   "outputs": [],
   "source": [
    "def diff(list1, list2):\n",
    "    list1 = list(list1)\n",
    "    list2 = list(list2)\n",
    "    in2not1 = []\n",
    "    in1not2 = []\n",
    "    for item in list1:\n",
    "        try:\n",
    "            list2.remove(item)\n",
    "        except ValueError:\n",
    "            in1not2 += item\n",
    "    for item in list2:\n",
    "        try:\n",
    "            list1.remove(item)\n",
    "        except ValueError:\n",
    "            in2not1 += item\n",
    "    return \"\".join(sorted(in1not2 + in2not1))\n",
    "        "
   ]
  },
  {
   "cell_type": "code",
   "execution_count": null,
   "id": "64f1819d-56af-4c92-b80b-2d21a4696499",
   "metadata": {},
   "outputs": [
    {
     "name": "stdout",
     "output_type": "stream",
     "text": [
      "ry\n",
      "{'n', 'r', 't', 'g', 's', 'y', 'i'}\n",
      "ginrsty\n"
     ]
    }
   ],
   "source": [
    "print(diff(\"stingy\", \"string\"))\n",
    "\n",
    "print(merge_strings(\"stingy\", \"stringy\"))"
   ]
  },
  {
   "cell_type": "code",
   "execution_count": 136,
   "id": "8dccfafc-921a-4aa7-8850-06cd138f22c6",
   "metadata": {},
   "outputs": [
    {
     "name": "stdout",
     "output_type": "stream",
     "text": [
      "986163\n"
     ]
    }
   ],
   "source": [
    "correct_segments = {0: (\"a\",\"b\",\"c\",\"e\",\"f\",\"g\"), 1: (\"c\",\"f\"), 2: (\"a\",\"c\",\"d\",\"e\",\"g\"), 3: (\"a\",\"c\",\"d\",\"f\",\"g\"), 4: (\"b\",\"c\",\"d\",\"f\"), 5: (\"a\",\"b\",\"d\",\"f\",\"g\"), 6: (\"a\",\"b\",\"d\",\"e\",\"f\",\"g\"), 7: (\"a\",\"c\",\"f\"), 8: (\"a\",\"b\",\"c\",\"d\",\"e\",\"f\",\"g\"), 9: (\"a\",\"b\",\"c\",\"d\",\"f\",\"g\")}\n",
    "correct_segs = {0: \"abcefg\", 1: \"cf\", 2: \"acdeg\", 3: \"acdfg\", 4: \"bcdf\", 5: \"abdfg\", 6: \"abdefg\", 7: \"acf\", 8: \"abcdefg\", 9: \"abcdfg\"}\n",
    "number_from_segs = {\"a\": (0,2,3,5,6,7,8,9), \"b\": (0,4,5,6,8,9), \"c\": (0,1,2,3,4,7,8,9), \"d\": (2,3,4,5,6,8,9), \"e\": (0,2,6,8), \"f\": (0,1,3,4,5,6,7,8,9), \"g\": (0,2,3,5,6,8,9)}\n",
    "with open(\"input.txt\") as f:\n",
    "    lines = f.read().splitlines()\n",
    "    running_total = 0\n",
    "    for line in lines:\n",
    "        running_total += deduce_solution(line)\n",
    "print(running_total)"
   ]
  }
 ],
 "metadata": {
  "kernelspec": {
   "display_name": "Python 3 (ipykernel)",
   "language": "python",
   "name": "python3"
  },
  "language_info": {
   "codemirror_mode": {
    "name": "ipython",
    "version": 3
   },
   "file_extension": ".py",
   "mimetype": "text/x-python",
   "name": "python",
   "nbconvert_exporter": "python",
   "pygments_lexer": "ipython3",
   "version": "3.10.0"
  }
 },
 "nbformat": 4,
 "nbformat_minor": 5
}
