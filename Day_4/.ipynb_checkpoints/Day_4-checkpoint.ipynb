{
 "cells": [
  {
   "cell_type": "code",
   "execution_count": 49,
   "id": "7868829b-4c54-4edb-8012-8749e2b9bf72",
   "metadata": {},
   "outputs": [
    {
     "name": "stdout",
     "output_type": "stream",
     "text": [
      "318\n",
      "543\n",
      "621\n",
      "691\n",
      "899\n",
      "899\n",
      "89001\n"
     ]
    }
   ],
   "source": [
    "with open(\"input.txt\") as f:\n",
    "    lines = f.read().splitlines()\n",
    "    numbers = [int(x) for x in lines[0].split(\",\")]\n",
    "    boards = []\n",
    "    marker_boards = []\n",
    "    #print(numbers)\n",
    "    for line in lines:\n",
    "        if line == \"\":\n",
    "            boards.append([])\n",
    "            marker_boards.append([])\n",
    "        else:\n",
    "            try:\n",
    "                boards[-1].append([int(x) for x in line.split()])\n",
    "                marker_boards[-1].append([0,]*5)\n",
    "            except:\n",
    "                pass\n",
    "    #print(boards)\n",
    "    #print(marker_boards)\n",
    "    just_called, winning_board, winning_marker_board = iterate_numbers(numbers, boards, marker_boards)\n",
    "    sum_of_unmarked = add_unmarked(winning_board, winning_marker_board)\n",
    "    print(just_called * sum_of_unmarked)\n",
    "    "
   ]
  },
  {
   "cell_type": "code",
   "execution_count": 38,
   "id": "1cb40da3-4c23-4eaa-bdb9-a27f5c889507",
   "metadata": {},
   "outputs": [],
   "source": [
    "def iterate_numbers(numbers, boards, marker_boards):\n",
    "    for number in numbers:\n",
    "        for index, board in enumerate(boards):\n",
    "            for row_index, row in enumerate(board):\n",
    "                if number in row:\n",
    "                    for elem_index, elem in enumerate(row):\n",
    "                        if number == elem:\n",
    "                            marker_boards[index][row_index][elem_index] = 1\n",
    "        for index, board in enumerate(marker_boards):\n",
    "            if check_board(board):\n",
    "                winning_board = boards[index]\n",
    "                return number, winning_board, board\n",
    "                "
   ]
  },
  {
   "cell_type": "code",
   "execution_count": 19,
   "id": "ddbf2aef-4e95-4e14-ae5a-87ebdee1cf39",
   "metadata": {},
   "outputs": [],
   "source": [
    "def check_board(board):\n",
    "    for row in board:\n",
    "        if 0 not in row:\n",
    "            return True\n",
    "        \n",
    "    for i in range(len(board[0])):\n",
    "        good = True\n",
    "        for row in board:\n",
    "            if row[i] == 0:\n",
    "                good = False\n",
    "                break\n",
    "        if good:\n",
    "            return True\n",
    "    return False"
   ]
  },
  {
   "cell_type": "code",
   "execution_count": 45,
   "id": "c95a62f4-9260-4d9e-ba7c-802a49106f31",
   "metadata": {},
   "outputs": [],
   "source": [
    "def add_unmarked(board, marker_board):\n",
    "    total = 0\n",
    "    for i in range(len(board)):\n",
    "        total += dot(board[i], marker_board[i])\n",
    "        print(total)\n",
    "    print(total)\n",
    "    return total"
   ]
  },
  {
   "cell_type": "code",
   "execution_count": 47,
   "id": "6293795b-084c-4abe-85e7-cf2e233376a1",
   "metadata": {},
   "outputs": [],
   "source": [
    "def dot(K, L):\n",
    "   if len(K) != len(L):\n",
    "      return 0\n",
    "\n",
    "   return sum(i[0] * (1-i[1]) for i in zip(K, L))"
   ]
  },
  {
   "cell_type": "markdown",
   "id": "2f79a9b5-31fa-4671-a138-0fbe41e3d62d",
   "metadata": {},
   "source": [
    "# Part 2"
   ]
  },
  {
   "cell_type": "code",
   "execution_count": 93,
   "id": "1fd34d92-03d8-463e-87dd-662da73a31c8",
   "metadata": {},
   "outputs": [
    {
     "name": "stdout",
     "output_type": "stream",
     "text": [
      "38\n",
      "[[74, 97, 72, 66, 1], [34, 50, 2, 57, 33], [29, 71, 52, 88, 73], [16, 7, 39, 40, 24], [15, 38, 80, 54, 17]]\n",
      "73\n",
      "107\n",
      "136\n",
      "192\n",
      "192\n",
      "192\n",
      "7296\n"
     ]
    }
   ],
   "source": [
    "with open(\"input.txt\") as f:\n",
    "    lines = f.read().splitlines()\n",
    "    numbers = [int(x) for x in lines[0].split(\",\")]\n",
    "    boards = []\n",
    "    marker_boards = []\n",
    "    #print(numbers)\n",
    "    for line in lines:\n",
    "        if line == \"\":\n",
    "            boards.append([])\n",
    "            marker_boards.append([])\n",
    "        else:\n",
    "            try:\n",
    "                boards[-1].append([int(x) for x in line.split()])\n",
    "                marker_boards[-1].append([0,]*5)\n",
    "            except:\n",
    "                pass\n",
    "    #print(boards)\n",
    "    #print(marker_boards)\n",
    "    just_called, winning_board, winning_marker_board = iterate_numbers_to_lose(numbers, boards, marker_boards)\n",
    "    print(just_called)\n",
    "    print(winning_board)\n",
    "    sum_of_unmarked = add_unmarked(winning_board, winning_marker_board)\n",
    "    print(just_called * sum_of_unmarked)\n",
    "    "
   ]
  },
  {
   "cell_type": "code",
   "execution_count": 92,
   "id": "bdc670f2-aa1d-4f50-8cfd-b1cd241a7904",
   "metadata": {},
   "outputs": [],
   "source": [
    "def iterate_numbers_to_lose(numbers, boards, marker_boards):\n",
    "    old_losers = []\n",
    "    for number in numbers:\n",
    "        for index, board in enumerate(boards):\n",
    "            for row_index, row in enumerate(board):\n",
    "                if number in row:\n",
    "                    for elem_index, elem in enumerate(row):\n",
    "                        if number == elem:\n",
    "                            marker_boards[index][row_index][elem_index] = 1\n",
    "        losers = []\n",
    "\n",
    "        for index, board in enumerate(marker_boards):\n",
    "            if not check_board(board):\n",
    "                losers.append(index)\n",
    "        #print(losers)\n",
    "        #print(\"ol\", old_losers)\n",
    "\n",
    "        if len(losers) == 0:\n",
    "            return number, boards[old_losers[0]], marker_boards[old_losers[0]]\n",
    "        if len(losers) == 1 and losers:\n",
    "            old_losers = losers\n"
   ]
  },
  {
   "cell_type": "code",
   "execution_count": null,
   "id": "4d668f66-088f-4b4c-b9b9-7f1162029143",
   "metadata": {},
   "outputs": [],
   "source": []
  }
 ],
 "metadata": {
  "kernelspec": {
   "display_name": "Python 3 (ipykernel)",
   "language": "python",
   "name": "python3"
  },
  "language_info": {
   "codemirror_mode": {
    "name": "ipython",
    "version": 3
   },
   "file_extension": ".py",
   "mimetype": "text/x-python",
   "name": "python",
   "nbconvert_exporter": "python",
   "pygments_lexer": "ipython3",
   "version": "3.10.0"
  }
 },
 "nbformat": 4,
 "nbformat_minor": 5
}
